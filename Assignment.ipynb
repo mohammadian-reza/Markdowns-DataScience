{
 "cells": [
  {
   "attachments": {},
   "cell_type": "markdown",
   "metadata": {},
   "source": [
    "# A NoteBook For Practical Tips in writing the markdowns"
   ]
  },
  {
   "attachments": {},
   "cell_type": "markdown",
   "metadata": {},
   "source": [
    "### **Types of Markdown** in Jupyter NoteBook\n",
    "\n",
    "\n",
    "##### 1. **Horizontal Rule**  --> **by (---)** \n",
    "\n",
    "---\n",
    "\n",
    "\n",
    "##### 1. **Bullet List**  -->  **by (*)** \n",
    "* item1\n",
    "* item2\n",
    "* item3\n",
    "\n",
    "\n",
    "##### 2. **Numbered list** --> **by (number + space)**\n",
    "1. One\n",
    "2. Two\n",
    "3. Three\n",
    "\n",
    "\n",
    "\n",
    "##### 3. **Table** --> **by |column|**\n",
    "| Tables        | Are           | Col   |\n",
    "| ------------- |:-------------:| -----:|\n",
    "| Item1         | Att1          |amoun1 |\n",
    "| Item2         | Att2          |amount2|\n",
    "| Item3         | Att3          |amount3|\n",
    "\n",
    "\n",
    "##### 4. **Links** --> **by ([] + (Link))**\n",
    "\n",
    "Best Platform for Learning Data Science is [Coursera](https://coursera.org)\n",
    "\n",
    "\n",
    "\n",
    "##### 5. **Blockquotes** -->  **by (>)**\n",
    "\n",
    "> Quoted Text\n",
    "\n",
    "##### 6. **Code Syntax** -->  **by (``` Programming Language )**\n",
    "\n",
    "```python\n",
    "print('Hello World')\n",
    "\n",
    "```\n",
    "\n",
    "##### 7. Headings: Use **#s** followed by a blank space for notebook titles and section headings:\n",
    "\n",
    "`# title`\n",
    "\n",
    "`## major headings`\n",
    "\n",
    "`### subheadings`\n",
    "\n",
    "`#### 4th level subheadings`\n",
    "\n",
    "\n",
    "##### 8. Italic form --> Write your text between two (**):\n",
    "*This text is displayed in Italic form*\n",
    "\n",
    "##### 9. Colored Texts --> Wrtie Text in the form `<font color=>Text</font>` Assign a color (red, blue, ...):\n",
    "<font color=blue>Blue Text</font>\n",
    "\n",
    "##### 10. MonoSpace font and Disabled syntax of Markdown By (``):\n",
    "`Syntax is disabled`\n",
    "\n",
    "##### 11. Geometric shapes: Use [**The link for UTF-8 Geometric shapes**](https://www.w3schools.com/charsets/ref_utf_geometric.asp):\n",
    "<p> display &#9689;</p>\n",
    "\n",
    "\n",
    "##### 12. mathematical Symbols --> by ($$):\n",
    "$Y=X^2$\n"
   ]
  }
 ],
 "metadata": {
  "kernelspec": {
   "display_name": "Python 3",
   "language": "python",
   "name": "python3"
  },
  "language_info": {
   "codemirror_mode": {
    "name": "ipython",
    "version": 3
   },
   "file_extension": ".py",
   "mimetype": "text/x-python",
   "name": "python",
   "nbconvert_exporter": "python",
   "pygments_lexer": "ipython3",
   "version": "3.10.4 (main, Jan 25 2023, 00:13:50) [GCC 9.4.0]"
  },
  "orig_nbformat": 4,
  "vscode": {
   "interpreter": {
    "hash": "3ad933181bd8a04b432d3370b9dc3b0662ad032c4dfaa4e4f1596c548f763858"
   }
  }
 },
 "nbformat": 4,
 "nbformat_minor": 2
}
